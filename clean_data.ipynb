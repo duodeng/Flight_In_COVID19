{
 "cells": [
  {
   "cell_type": "code",
   "execution_count": 1,
   "id": "c1407985",
   "metadata": {},
   "outputs": [],
   "source": [
    "import numpy as np\n",
    "import pandas as pd"
   ]
  },
  {
   "cell_type": "code",
   "execution_count": 2,
   "id": "6e37b60c",
   "metadata": {},
   "outputs": [],
   "source": [
    "flight_df = pd.read_csv('C:/Users/dengd/Documents/GitHub/Flight_In_COVID19/flight_df.csv')"
   ]
  },
  {
   "cell_type": "code",
   "execution_count": 3,
   "id": "fe643aa5",
   "metadata": {},
   "outputs": [
    {
     "data": {
      "text/html": [
       "<div>\n",
       "<style scoped>\n",
       "    .dataframe tbody tr th:only-of-type {\n",
       "        vertical-align: middle;\n",
       "    }\n",
       "\n",
       "    .dataframe tbody tr th {\n",
       "        vertical-align: top;\n",
       "    }\n",
       "\n",
       "    .dataframe thead th {\n",
       "        text-align: right;\n",
       "    }\n",
       "</style>\n",
       "<table border=\"1\" class=\"dataframe\">\n",
       "  <thead>\n",
       "    <tr style=\"text-align: right;\">\n",
       "      <th></th>\n",
       "      <th>Unnamed: 0</th>\n",
       "      <th>callsign</th>\n",
       "      <th>origin</th>\n",
       "      <th>destination</th>\n",
       "      <th>firstseen</th>\n",
       "      <th>lastseen</th>\n",
       "      <th>day</th>\n",
       "      <th>latitude_1</th>\n",
       "      <th>longitude_1</th>\n",
       "      <th>latitude_2</th>\n",
       "      <th>longitude_2</th>\n",
       "    </tr>\n",
       "  </thead>\n",
       "  <tbody>\n",
       "    <tr>\n",
       "      <th>0</th>\n",
       "      <td>0</td>\n",
       "      <td>N58</td>\n",
       "      <td>NaN</td>\n",
       "      <td>KCMH</td>\n",
       "      <td>2020-01-23 01:46:46+00:00</td>\n",
       "      <td>2020-01-23 02:54:16+00:00</td>\n",
       "      <td>2020-01-23 00:00:00+00:00</td>\n",
       "      <td>44.645086</td>\n",
       "      <td>-91.111428</td>\n",
       "      <td>39.991882</td>\n",
       "      <td>-82.877747</td>\n",
       "    </tr>\n",
       "    <tr>\n",
       "      <th>1</th>\n",
       "      <td>1</td>\n",
       "      <td>SWA</td>\n",
       "      <td>KATL</td>\n",
       "      <td>KPHL</td>\n",
       "      <td>2020-01-18 19:25:14+00:00</td>\n",
       "      <td>2020-01-18 20:43:28+00:00</td>\n",
       "      <td>2020-01-18 00:00:00+00:00</td>\n",
       "      <td>33.634876</td>\n",
       "      <td>-84.419403</td>\n",
       "      <td>39.859909</td>\n",
       "      <td>-75.280052</td>\n",
       "    </tr>\n",
       "    <tr>\n",
       "      <th>2</th>\n",
       "      <td>2</td>\n",
       "      <td>PBD</td>\n",
       "      <td>NaN</td>\n",
       "      <td>ULLI</td>\n",
       "      <td>2020-01-30 06:47:44+00:00</td>\n",
       "      <td>2020-01-30 07:59:58+00:00</td>\n",
       "      <td>2020-01-30 00:00:00+00:00</td>\n",
       "      <td>53.645961</td>\n",
       "      <td>37.029984</td>\n",
       "      <td>59.826795</td>\n",
       "      <td>30.036148</td>\n",
       "    </tr>\n",
       "    <tr>\n",
       "      <th>3</th>\n",
       "      <td>3</td>\n",
       "      <td>CES</td>\n",
       "      <td>ZGSZ</td>\n",
       "      <td>NaN</td>\n",
       "      <td>2020-01-24 11:25:47+00:00</td>\n",
       "      <td>2020-01-24 11:41:25+00:00</td>\n",
       "      <td>2020-01-24 00:00:00+00:00</td>\n",
       "      <td>22.608902</td>\n",
       "      <td>113.826399</td>\n",
       "      <td>23.772171</td>\n",
       "      <td>114.960581</td>\n",
       "    </tr>\n",
       "    <tr>\n",
       "      <th>4</th>\n",
       "      <td>4</td>\n",
       "      <td>TAP</td>\n",
       "      <td>LPPT</td>\n",
       "      <td>EIDW</td>\n",
       "      <td>2020-01-27 08:48:13+00:00</td>\n",
       "      <td>2020-01-27 11:11:52+00:00</td>\n",
       "      <td>2020-01-27 00:00:00+00:00</td>\n",
       "      <td>38.754181</td>\n",
       "      <td>-9.150656</td>\n",
       "      <td>53.419717</td>\n",
       "      <td>-6.240154</td>\n",
       "    </tr>\n",
       "    <tr>\n",
       "      <th>...</th>\n",
       "      <td>...</td>\n",
       "      <td>...</td>\n",
       "      <td>...</td>\n",
       "      <td>...</td>\n",
       "      <td>...</td>\n",
       "      <td>...</td>\n",
       "      <td>...</td>\n",
       "      <td>...</td>\n",
       "      <td>...</td>\n",
       "      <td>...</td>\n",
       "      <td>...</td>\n",
       "    </tr>\n",
       "    <tr>\n",
       "      <th>793793</th>\n",
       "      <td>793793</td>\n",
       "      <td>SFJ</td>\n",
       "      <td>RJTT</td>\n",
       "      <td>RJBB</td>\n",
       "      <td>2022-10-27 03:13:22+00:00</td>\n",
       "      <td>2022-10-27 04:12:45+00:00</td>\n",
       "      <td>2022-10-27 00:00:00+00:00</td>\n",
       "      <td>35.543378</td>\n",
       "      <td>139.829134</td>\n",
       "      <td>34.414440</td>\n",
       "      <td>135.185108</td>\n",
       "    </tr>\n",
       "    <tr>\n",
       "      <th>793794</th>\n",
       "      <td>793794</td>\n",
       "      <td>SKW</td>\n",
       "      <td>NaN</td>\n",
       "      <td>KATL</td>\n",
       "      <td>2022-10-20 22:39:05+00:00</td>\n",
       "      <td>2022-10-20 23:40:31+00:00</td>\n",
       "      <td>2022-10-20 00:00:00+00:00</td>\n",
       "      <td>32.481995</td>\n",
       "      <td>-92.345251</td>\n",
       "      <td>33.620259</td>\n",
       "      <td>-84.411163</td>\n",
       "    </tr>\n",
       "    <tr>\n",
       "      <th>793795</th>\n",
       "      <td>793795</td>\n",
       "      <td>RYR</td>\n",
       "      <td>NaN</td>\n",
       "      <td>LIPE</td>\n",
       "      <td>2022-10-06 18:21:46+00:00</td>\n",
       "      <td>2022-10-06 19:10:40+00:00</td>\n",
       "      <td>2022-10-06 00:00:00+00:00</td>\n",
       "      <td>39.825253</td>\n",
       "      <td>9.592407</td>\n",
       "      <td>44.549103</td>\n",
       "      <td>11.251112</td>\n",
       "    </tr>\n",
       "    <tr>\n",
       "      <th>793796</th>\n",
       "      <td>793796</td>\n",
       "      <td>EJA</td>\n",
       "      <td>NaN</td>\n",
       "      <td>KCXP</td>\n",
       "      <td>2022-10-08 16:39:00+00:00</td>\n",
       "      <td>2022-10-08 17:41:25+00:00</td>\n",
       "      <td>2022-10-08 00:00:00+00:00</td>\n",
       "      <td>41.213242</td>\n",
       "      <td>-110.641357</td>\n",
       "      <td>39.234512</td>\n",
       "      <td>-119.716585</td>\n",
       "    </tr>\n",
       "    <tr>\n",
       "      <th>793797</th>\n",
       "      <td>793797</td>\n",
       "      <td>SWA</td>\n",
       "      <td>KSFO</td>\n",
       "      <td>KPHX</td>\n",
       "      <td>2022-10-08 12:38:47+00:00</td>\n",
       "      <td>2022-10-08 14:09:07+00:00</td>\n",
       "      <td>2022-10-08 00:00:00+00:00</td>\n",
       "      <td>37.616867</td>\n",
       "      <td>-122.377001</td>\n",
       "      <td>33.428879</td>\n",
       "      <td>-112.015887</td>\n",
       "    </tr>\n",
       "  </tbody>\n",
       "</table>\n",
       "<p>793798 rows × 11 columns</p>\n",
       "</div>"
      ],
      "text/plain": [
       "        Unnamed: 0 callsign origin destination                  firstseen  \\\n",
       "0                0      N58    NaN        KCMH  2020-01-23 01:46:46+00:00   \n",
       "1                1      SWA   KATL        KPHL  2020-01-18 19:25:14+00:00   \n",
       "2                2      PBD    NaN        ULLI  2020-01-30 06:47:44+00:00   \n",
       "3                3      CES   ZGSZ         NaN  2020-01-24 11:25:47+00:00   \n",
       "4                4      TAP   LPPT        EIDW  2020-01-27 08:48:13+00:00   \n",
       "...            ...      ...    ...         ...                        ...   \n",
       "793793      793793      SFJ   RJTT        RJBB  2022-10-27 03:13:22+00:00   \n",
       "793794      793794      SKW    NaN        KATL  2022-10-20 22:39:05+00:00   \n",
       "793795      793795      RYR    NaN        LIPE  2022-10-06 18:21:46+00:00   \n",
       "793796      793796      EJA    NaN        KCXP  2022-10-08 16:39:00+00:00   \n",
       "793797      793797      SWA   KSFO        KPHX  2022-10-08 12:38:47+00:00   \n",
       "\n",
       "                         lastseen                        day  latitude_1  \\\n",
       "0       2020-01-23 02:54:16+00:00  2020-01-23 00:00:00+00:00   44.645086   \n",
       "1       2020-01-18 20:43:28+00:00  2020-01-18 00:00:00+00:00   33.634876   \n",
       "2       2020-01-30 07:59:58+00:00  2020-01-30 00:00:00+00:00   53.645961   \n",
       "3       2020-01-24 11:41:25+00:00  2020-01-24 00:00:00+00:00   22.608902   \n",
       "4       2020-01-27 11:11:52+00:00  2020-01-27 00:00:00+00:00   38.754181   \n",
       "...                           ...                        ...         ...   \n",
       "793793  2022-10-27 04:12:45+00:00  2022-10-27 00:00:00+00:00   35.543378   \n",
       "793794  2022-10-20 23:40:31+00:00  2022-10-20 00:00:00+00:00   32.481995   \n",
       "793795  2022-10-06 19:10:40+00:00  2022-10-06 00:00:00+00:00   39.825253   \n",
       "793796  2022-10-08 17:41:25+00:00  2022-10-08 00:00:00+00:00   41.213242   \n",
       "793797  2022-10-08 14:09:07+00:00  2022-10-08 00:00:00+00:00   37.616867   \n",
       "\n",
       "        longitude_1  latitude_2  longitude_2  \n",
       "0        -91.111428   39.991882   -82.877747  \n",
       "1        -84.419403   39.859909   -75.280052  \n",
       "2         37.029984   59.826795    30.036148  \n",
       "3        113.826399   23.772171   114.960581  \n",
       "4         -9.150656   53.419717    -6.240154  \n",
       "...             ...         ...          ...  \n",
       "793793   139.829134   34.414440   135.185108  \n",
       "793794   -92.345251   33.620259   -84.411163  \n",
       "793795     9.592407   44.549103    11.251112  \n",
       "793796  -110.641357   39.234512  -119.716585  \n",
       "793797  -122.377001   33.428879  -112.015887  \n",
       "\n",
       "[793798 rows x 11 columns]"
      ]
     },
     "execution_count": 3,
     "metadata": {},
     "output_type": "execute_result"
    }
   ],
   "source": [
    "flight_df"
   ]
  },
  {
   "cell_type": "code",
   "execution_count": 4,
   "id": "7bcc5439",
   "metadata": {},
   "outputs": [],
   "source": [
    "# change columns name\n",
    "flight_df.rename(columns={'callsign':'airline_code','day':'date','firstseen':'dep_time','lastseen':'arr_time','latitude_1':'dep_lat','longitude_1':'dep_long','latitude_2':'arr_lat','longitude_2':'arr_long','origin':'org_airport','destination':'dst_airport'}, inplace=True )"
   ]
  },
  {
   "cell_type": "code",
   "execution_count": 5,
   "id": "8db08b89",
   "metadata": {},
   "outputs": [],
   "source": [
    "cargo_top5 = ['CLX','FDX','GEC','GTI','UPS']"
   ]
  },
  {
   "cell_type": "code",
   "execution_count": 6,
   "id": "b67b6ef3",
   "metadata": {},
   "outputs": [],
   "source": [
    "flight_df['cargo_airline'] = flight_df['airline_code'].isin(cargo_top5)"
   ]
  },
  {
   "cell_type": "code",
   "execution_count": 7,
   "id": "f3492a98",
   "metadata": {},
   "outputs": [
    {
     "data": {
      "text/html": [
       "<div>\n",
       "<style scoped>\n",
       "    .dataframe tbody tr th:only-of-type {\n",
       "        vertical-align: middle;\n",
       "    }\n",
       "\n",
       "    .dataframe tbody tr th {\n",
       "        vertical-align: top;\n",
       "    }\n",
       "\n",
       "    .dataframe thead th {\n",
       "        text-align: right;\n",
       "    }\n",
       "</style>\n",
       "<table border=\"1\" class=\"dataframe\">\n",
       "  <thead>\n",
       "    <tr style=\"text-align: right;\">\n",
       "      <th></th>\n",
       "      <th>Unnamed: 0</th>\n",
       "      <th>airline_code</th>\n",
       "      <th>org_airport</th>\n",
       "      <th>dst_airport</th>\n",
       "      <th>dep_time</th>\n",
       "      <th>arr_time</th>\n",
       "      <th>date</th>\n",
       "      <th>dep_lat</th>\n",
       "      <th>dep_long</th>\n",
       "      <th>arr_lat</th>\n",
       "      <th>arr_long</th>\n",
       "      <th>cargo_airline</th>\n",
       "    </tr>\n",
       "  </thead>\n",
       "  <tbody>\n",
       "    <tr>\n",
       "      <th>0</th>\n",
       "      <td>0</td>\n",
       "      <td>N58</td>\n",
       "      <td>NaN</td>\n",
       "      <td>KCMH</td>\n",
       "      <td>2020-01-23 01:46:46+00:00</td>\n",
       "      <td>2020-01-23 02:54:16+00:00</td>\n",
       "      <td>2020-01-23 00:00:00+00:00</td>\n",
       "      <td>44.645086</td>\n",
       "      <td>-91.111428</td>\n",
       "      <td>39.991882</td>\n",
       "      <td>-82.877747</td>\n",
       "      <td>False</td>\n",
       "    </tr>\n",
       "    <tr>\n",
       "      <th>1</th>\n",
       "      <td>1</td>\n",
       "      <td>SWA</td>\n",
       "      <td>KATL</td>\n",
       "      <td>KPHL</td>\n",
       "      <td>2020-01-18 19:25:14+00:00</td>\n",
       "      <td>2020-01-18 20:43:28+00:00</td>\n",
       "      <td>2020-01-18 00:00:00+00:00</td>\n",
       "      <td>33.634876</td>\n",
       "      <td>-84.419403</td>\n",
       "      <td>39.859909</td>\n",
       "      <td>-75.280052</td>\n",
       "      <td>False</td>\n",
       "    </tr>\n",
       "    <tr>\n",
       "      <th>2</th>\n",
       "      <td>2</td>\n",
       "      <td>PBD</td>\n",
       "      <td>NaN</td>\n",
       "      <td>ULLI</td>\n",
       "      <td>2020-01-30 06:47:44+00:00</td>\n",
       "      <td>2020-01-30 07:59:58+00:00</td>\n",
       "      <td>2020-01-30 00:00:00+00:00</td>\n",
       "      <td>53.645961</td>\n",
       "      <td>37.029984</td>\n",
       "      <td>59.826795</td>\n",
       "      <td>30.036148</td>\n",
       "      <td>False</td>\n",
       "    </tr>\n",
       "  </tbody>\n",
       "</table>\n",
       "</div>"
      ],
      "text/plain": [
       "   Unnamed: 0 airline_code org_airport dst_airport                   dep_time  \\\n",
       "0           0          N58         NaN        KCMH  2020-01-23 01:46:46+00:00   \n",
       "1           1          SWA        KATL        KPHL  2020-01-18 19:25:14+00:00   \n",
       "2           2          PBD         NaN        ULLI  2020-01-30 06:47:44+00:00   \n",
       "\n",
       "                    arr_time                       date    dep_lat   dep_long  \\\n",
       "0  2020-01-23 02:54:16+00:00  2020-01-23 00:00:00+00:00  44.645086 -91.111428   \n",
       "1  2020-01-18 20:43:28+00:00  2020-01-18 00:00:00+00:00  33.634876 -84.419403   \n",
       "2  2020-01-30 07:59:58+00:00  2020-01-30 00:00:00+00:00  53.645961  37.029984   \n",
       "\n",
       "     arr_lat   arr_long  cargo_airline  \n",
       "0  39.991882 -82.877747          False  \n",
       "1  39.859909 -75.280052          False  \n",
       "2  59.826795  30.036148          False  "
      ]
     },
     "execution_count": 7,
     "metadata": {},
     "output_type": "execute_result"
    }
   ],
   "source": [
    "flight_df.head(3)"
   ]
  },
  {
   "cell_type": "code",
   "execution_count": 8,
   "id": "f3325cb9",
   "metadata": {},
   "outputs": [
    {
     "name": "stderr",
     "output_type": "stream",
     "text": [
      "C:\\Users\\dengd\\AppData\\Local\\Temp\\ipykernel_7488\\3011559432.py:1: FutureWarning: null_counts is deprecated. Use show_counts instead\n",
      "  flight_df.info(null_counts = True)\n"
     ]
    },
    {
     "name": "stdout",
     "output_type": "stream",
     "text": [
      "<class 'pandas.core.frame.DataFrame'>\n",
      "RangeIndex: 793798 entries, 0 to 793797\n",
      "Data columns (total 12 columns):\n",
      " #   Column         Non-Null Count   Dtype  \n",
      "---  ------         --------------   -----  \n",
      " 0   Unnamed: 0     793798 non-null  int64  \n",
      " 1   airline_code   793798 non-null  object \n",
      " 2   org_airport    607271 non-null  object \n",
      " 3   dst_airport    658520 non-null  object \n",
      " 4   dep_time       793798 non-null  object \n",
      " 5   arr_time       793798 non-null  object \n",
      " 6   date           793798 non-null  object \n",
      " 7   dep_lat        793798 non-null  float64\n",
      " 8   dep_long       793798 non-null  float64\n",
      " 9   arr_lat        793780 non-null  float64\n",
      " 10  arr_long       793780 non-null  float64\n",
      " 11  cargo_airline  793798 non-null  bool   \n",
      "dtypes: bool(1), float64(4), int64(1), object(6)\n",
      "memory usage: 67.4+ MB\n"
     ]
    }
   ],
   "source": [
    "flight_df.info(null_counts = True)"
   ]
  },
  {
   "cell_type": "code",
   "execution_count": 9,
   "id": "04bacc62",
   "metadata": {},
   "outputs": [],
   "source": [
    "# drop null-values\n",
    "flight_df= flight_df.dropna()"
   ]
  },
  {
   "cell_type": "code",
   "execution_count": 10,
   "id": "e1647f16",
   "metadata": {},
   "outputs": [
    {
     "name": "stderr",
     "output_type": "stream",
     "text": [
      "C:\\Users\\dengd\\AppData\\Local\\Temp\\ipykernel_7488\\681663553.py:2: SettingWithCopyWarning: \n",
      "A value is trying to be set on a copy of a slice from a DataFrame\n",
      "\n",
      "See the caveats in the documentation: https://pandas.pydata.org/pandas-docs/stable/user_guide/indexing.html#returning-a-view-versus-a-copy\n",
      "  flight_df.drop(columns=['Unnamed: 0'], inplace=True)\n"
     ]
    }
   ],
   "source": [
    "# drop duplicated index column\n",
    "flight_df.drop(columns=['Unnamed: 0'], inplace=True)"
   ]
  },
  {
   "cell_type": "code",
   "execution_count": 11,
   "id": "3f6903ad",
   "metadata": {},
   "outputs": [
    {
     "name": "stderr",
     "output_type": "stream",
     "text": [
      "C:\\Users\\dengd\\AppData\\Local\\Temp\\ipykernel_7488\\3890752966.py:2: SettingWithCopyWarning: \n",
      "A value is trying to be set on a copy of a slice from a DataFrame\n",
      "\n",
      "See the caveats in the documentation: https://pandas.pydata.org/pandas-docs/stable/user_guide/indexing.html#returning-a-view-versus-a-copy\n",
      "  flight_df.drop_duplicates(inplace = True)\n"
     ]
    }
   ],
   "source": [
    "# delete duplicated rows\n",
    "flight_df.drop_duplicates(inplace = True)"
   ]
  },
  {
   "cell_type": "code",
   "execution_count": 12,
   "id": "bdd00129",
   "metadata": {},
   "outputs": [],
   "source": [
    "# reset index\n",
    "flight_df.reset_index(drop = True, inplace = True)"
   ]
  },
  {
   "cell_type": "code",
   "execution_count": 13,
   "id": "8df1690b",
   "metadata": {},
   "outputs": [],
   "source": [
    "# rearrange columns\n",
    "flight_df = flight_df[[\n",
    " 'airline_code',\n",
    " 'date',\n",
    " 'dep_time',\n",
    " 'arr_time',\n",
    " 'dep_lat',\n",
    " 'dep_long',\n",
    " 'arr_lat',\n",
    " 'arr_long',\n",
    " 'cargo_airline',\n",
    " 'org_airport',\n",
    " 'dst_airport'   \n",
    "]]"
   ]
  },
  {
   "cell_type": "code",
   "execution_count": 14,
   "id": "e29d3e76",
   "metadata": {},
   "outputs": [
    {
     "name": "stderr",
     "output_type": "stream",
     "text": [
      "C:\\Users\\dengd\\AppData\\Local\\Temp\\ipykernel_7488\\3011559432.py:1: FutureWarning: null_counts is deprecated. Use show_counts instead\n",
      "  flight_df.info(null_counts = True)\n"
     ]
    },
    {
     "name": "stdout",
     "output_type": "stream",
     "text": [
      "<class 'pandas.core.frame.DataFrame'>\n",
      "RangeIndex: 507488 entries, 0 to 507487\n",
      "Data columns (total 11 columns):\n",
      " #   Column         Non-Null Count   Dtype  \n",
      "---  ------         --------------   -----  \n",
      " 0   airline_code   507488 non-null  object \n",
      " 1   date           507488 non-null  object \n",
      " 2   dep_time       507488 non-null  object \n",
      " 3   arr_time       507488 non-null  object \n",
      " 4   dep_lat        507488 non-null  float64\n",
      " 5   dep_long       507488 non-null  float64\n",
      " 6   arr_lat        507488 non-null  float64\n",
      " 7   arr_long       507488 non-null  float64\n",
      " 8   cargo_airline  507488 non-null  bool   \n",
      " 9   org_airport    507488 non-null  object \n",
      " 10  dst_airport    507488 non-null  object \n",
      "dtypes: bool(1), float64(4), object(6)\n",
      "memory usage: 39.2+ MB\n"
     ]
    }
   ],
   "source": [
    "flight_df.info(null_counts = True)"
   ]
  },
  {
   "cell_type": "code",
   "execution_count": 15,
   "id": "d61429fd",
   "metadata": {},
   "outputs": [
    {
     "name": "stdout",
     "output_type": "stream",
     "text": [
      "<class 'pandas.core.frame.DataFrame'>\n",
      "RangeIndex: 507488 entries, 0 to 507487\n",
      "Data columns (total 11 columns):\n",
      " #   Column         Non-Null Count   Dtype              \n",
      "---  ------         --------------   -----              \n",
      " 0   airline_code   507488 non-null  object             \n",
      " 1   date           507488 non-null  datetime64[ns, UTC]\n",
      " 2   dep_time       507488 non-null  datetime64[ns, UTC]\n",
      " 3   arr_time       507488 non-null  datetime64[ns, UTC]\n",
      " 4   dep_lat        507488 non-null  float64            \n",
      " 5   dep_long       507488 non-null  float64            \n",
      " 6   arr_lat        507488 non-null  float64            \n",
      " 7   arr_long       507488 non-null  float64            \n",
      " 8   cargo_airline  507488 non-null  bool               \n",
      " 9   org_airport    507488 non-null  object             \n",
      " 10  dst_airport    507488 non-null  object             \n",
      "dtypes: bool(1), datetime64[ns, UTC](3), float64(4), object(3)\n",
      "memory usage: 39.2+ MB\n"
     ]
    }
   ],
   "source": [
    "flight_df[['dep_time', 'arr_time','date']] = flight_df[['dep_time', 'arr_time','date']].apply(pd.to_datetime)\n",
    "flight_df.info()"
   ]
  },
  {
   "cell_type": "code",
   "execution_count": 16,
   "id": "6fbfb57a",
   "metadata": {},
   "outputs": [],
   "source": [
    "flight_df.to_csv(\"flight_cleaned.csv\")"
   ]
  }
 ],
 "metadata": {
  "kernelspec": {
   "display_name": "Python 3 (ipykernel)",
   "language": "python",
   "name": "python3"
  },
  "language_info": {
   "codemirror_mode": {
    "name": "ipython",
    "version": 3
   },
   "file_extension": ".py",
   "mimetype": "text/x-python",
   "name": "python",
   "nbconvert_exporter": "python",
   "pygments_lexer": "ipython3",
   "version": "3.9.13"
  }
 },
 "nbformat": 4,
 "nbformat_minor": 5
}
