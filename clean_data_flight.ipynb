{
 "cells": [
  {
   "cell_type": "code",
   "execution_count": 1,
   "id": "c1407985",
   "metadata": {},
   "outputs": [],
   "source": [
    "import numpy as np\n",
    "import pandas as pd"
   ]
  },
  {
   "cell_type": "code",
   "execution_count": 2,
   "id": "6e37b60c",
   "metadata": {},
   "outputs": [],
   "source": [
    "flight_df = pd.read_csv('D:/Germany/data analysis/Ironhack/midterm_project/flight_df.csv')"
   ]
  },
  {
   "cell_type": "code",
   "execution_count": 3,
   "id": "fe643aa5",
   "metadata": {},
   "outputs": [
    {
     "data": {
      "text/html": [
       "<div>\n",
       "<style scoped>\n",
       "    .dataframe tbody tr th:only-of-type {\n",
       "        vertical-align: middle;\n",
       "    }\n",
       "\n",
       "    .dataframe tbody tr th {\n",
       "        vertical-align: top;\n",
       "    }\n",
       "\n",
       "    .dataframe thead th {\n",
       "        text-align: right;\n",
       "    }\n",
       "</style>\n",
       "<table border=\"1\" class=\"dataframe\">\n",
       "  <thead>\n",
       "    <tr style=\"text-align: right;\">\n",
       "      <th></th>\n",
       "      <th>Unnamed: 0</th>\n",
       "      <th>callsign</th>\n",
       "      <th>origin</th>\n",
       "      <th>destination</th>\n",
       "      <th>firstseen</th>\n",
       "      <th>lastseen</th>\n",
       "      <th>day</th>\n",
       "      <th>latitude_1</th>\n",
       "      <th>longitude_1</th>\n",
       "      <th>latitude_2</th>\n",
       "      <th>longitude_2</th>\n",
       "    </tr>\n",
       "  </thead>\n",
       "  <tbody>\n",
       "    <tr>\n",
       "      <th>0</th>\n",
       "      <td>0</td>\n",
       "      <td>SIA</td>\n",
       "      <td>EGLL</td>\n",
       "      <td>WSSS</td>\n",
       "      <td>2020-01-11 11:09:45+00:00</td>\n",
       "      <td>2020-01-11 23:14:21+00:00</td>\n",
       "      <td>2020-01-11 00:00:00+00:00</td>\n",
       "      <td>51.464859</td>\n",
       "      <td>-0.468849</td>\n",
       "      <td>1.323074</td>\n",
       "      <td>103.966509</td>\n",
       "    </tr>\n",
       "    <tr>\n",
       "      <th>1</th>\n",
       "      <td>1</td>\n",
       "      <td>N87</td>\n",
       "      <td>KCLW</td>\n",
       "      <td>KCLW</td>\n",
       "      <td>2020-01-23 20:24:46+00:00</td>\n",
       "      <td>2020-01-23 21:31:40+00:00</td>\n",
       "      <td>2020-01-23 00:00:00+00:00</td>\n",
       "      <td>27.974808</td>\n",
       "      <td>-82.757897</td>\n",
       "      <td>27.983574</td>\n",
       "      <td>-82.762541</td>\n",
       "    </tr>\n",
       "    <tr>\n",
       "      <th>2</th>\n",
       "      <td>2</td>\n",
       "      <td>N42</td>\n",
       "      <td>KE25</td>\n",
       "      <td>AZ05</td>\n",
       "      <td>2020-01-31 00:10:22+00:00</td>\n",
       "      <td>2020-01-31 00:35:21+00:00</td>\n",
       "      <td>2020-01-31 00:00:00+00:00</td>\n",
       "      <td>33.910326</td>\n",
       "      <td>-112.797318</td>\n",
       "      <td>33.117634</td>\n",
       "      <td>-112.688337</td>\n",
       "    </tr>\n",
       "    <tr>\n",
       "      <th>3</th>\n",
       "      <td>3</td>\n",
       "      <td>ANA</td>\n",
       "      <td>NaN</td>\n",
       "      <td>RJTT</td>\n",
       "      <td>2020-01-10 06:47:47+00:00</td>\n",
       "      <td>2020-01-10 07:05:52+00:00</td>\n",
       "      <td>2020-01-10 00:00:00+00:00</td>\n",
       "      <td>36.252090</td>\n",
       "      <td>140.251179</td>\n",
       "      <td>35.487981</td>\n",
       "      <td>139.841815</td>\n",
       "    </tr>\n",
       "    <tr>\n",
       "      <th>4</th>\n",
       "      <td>4</td>\n",
       "      <td>FDX</td>\n",
       "      <td>KSAN</td>\n",
       "      <td>KOAK</td>\n",
       "      <td>2020-01-08 04:24:35+00:00</td>\n",
       "      <td>2020-01-08 05:31:16+00:00</td>\n",
       "      <td>2020-01-08 00:00:00+00:00</td>\n",
       "      <td>32.735906</td>\n",
       "      <td>-117.199402</td>\n",
       "      <td>37.707642</td>\n",
       "      <td>-122.223485</td>\n",
       "    </tr>\n",
       "    <tr>\n",
       "      <th>...</th>\n",
       "      <td>...</td>\n",
       "      <td>...</td>\n",
       "      <td>...</td>\n",
       "      <td>...</td>\n",
       "      <td>...</td>\n",
       "      <td>...</td>\n",
       "      <td>...</td>\n",
       "      <td>...</td>\n",
       "      <td>...</td>\n",
       "      <td>...</td>\n",
       "      <td>...</td>\n",
       "    </tr>\n",
       "    <tr>\n",
       "      <th>79372</th>\n",
       "      <td>79372</td>\n",
       "      <td>N91</td>\n",
       "      <td>KBUU</td>\n",
       "      <td>WI86</td>\n",
       "      <td>2022-10-25 00:03:03+00:00</td>\n",
       "      <td>2022-10-25 00:54:21+00:00</td>\n",
       "      <td>2022-10-25 00:00:00+00:00</td>\n",
       "      <td>42.672958</td>\n",
       "      <td>-88.227456</td>\n",
       "      <td>42.681061</td>\n",
       "      <td>-88.178454</td>\n",
       "    </tr>\n",
       "    <tr>\n",
       "      <th>79373</th>\n",
       "      <td>79373</td>\n",
       "      <td>AAL</td>\n",
       "      <td>NaN</td>\n",
       "      <td>KPHX</td>\n",
       "      <td>2022-10-25 19:30:33+00:00</td>\n",
       "      <td>2022-10-25 20:30:40+00:00</td>\n",
       "      <td>2022-10-25 00:00:00+00:00</td>\n",
       "      <td>27.238459</td>\n",
       "      <td>-110.526898</td>\n",
       "      <td>33.428833</td>\n",
       "      <td>-112.006274</td>\n",
       "    </tr>\n",
       "    <tr>\n",
       "      <th>79374</th>\n",
       "      <td>79374</td>\n",
       "      <td>PDT</td>\n",
       "      <td>KROA</td>\n",
       "      <td>KUZA</td>\n",
       "      <td>2022-10-24 18:52:30+00:00</td>\n",
       "      <td>2022-10-24 19:34:23+00:00</td>\n",
       "      <td>2022-10-24 00:00:00+00:00</td>\n",
       "      <td>37.325729</td>\n",
       "      <td>-79.978891</td>\n",
       "      <td>35.046154</td>\n",
       "      <td>-80.937767</td>\n",
       "    </tr>\n",
       "    <tr>\n",
       "      <th>79375</th>\n",
       "      <td>79375</td>\n",
       "      <td>FAN</td>\n",
       "      <td>KRND</td>\n",
       "      <td>KRND</td>\n",
       "      <td>2022-10-13 20:06:16+00:00</td>\n",
       "      <td>2022-10-13 21:29:50+00:00</td>\n",
       "      <td>2022-10-13 00:00:00+00:00</td>\n",
       "      <td>29.519211</td>\n",
       "      <td>-98.282899</td>\n",
       "      <td>29.511745</td>\n",
       "      <td>-98.277875</td>\n",
       "    </tr>\n",
       "    <tr>\n",
       "      <th>79376</th>\n",
       "      <td>79376</td>\n",
       "      <td>UPS</td>\n",
       "      <td>LA41</td>\n",
       "      <td>KSDF</td>\n",
       "      <td>2022-10-26 02:21:16+00:00</td>\n",
       "      <td>2022-10-26 03:47:04+00:00</td>\n",
       "      <td>2022-10-26 00:00:00+00:00</td>\n",
       "      <td>30.337280</td>\n",
       "      <td>-91.966122</td>\n",
       "      <td>38.209611</td>\n",
       "      <td>-85.756232</td>\n",
       "    </tr>\n",
       "  </tbody>\n",
       "</table>\n",
       "<p>79377 rows × 11 columns</p>\n",
       "</div>"
      ],
      "text/plain": [
       "       Unnamed: 0 callsign origin destination                  firstseen  \\\n",
       "0               0      SIA   EGLL        WSSS  2020-01-11 11:09:45+00:00   \n",
       "1               1      N87   KCLW        KCLW  2020-01-23 20:24:46+00:00   \n",
       "2               2      N42   KE25        AZ05  2020-01-31 00:10:22+00:00   \n",
       "3               3      ANA    NaN        RJTT  2020-01-10 06:47:47+00:00   \n",
       "4               4      FDX   KSAN        KOAK  2020-01-08 04:24:35+00:00   \n",
       "...           ...      ...    ...         ...                        ...   \n",
       "79372       79372      N91   KBUU        WI86  2022-10-25 00:03:03+00:00   \n",
       "79373       79373      AAL    NaN        KPHX  2022-10-25 19:30:33+00:00   \n",
       "79374       79374      PDT   KROA        KUZA  2022-10-24 18:52:30+00:00   \n",
       "79375       79375      FAN   KRND        KRND  2022-10-13 20:06:16+00:00   \n",
       "79376       79376      UPS   LA41        KSDF  2022-10-26 02:21:16+00:00   \n",
       "\n",
       "                        lastseen                        day  latitude_1  \\\n",
       "0      2020-01-11 23:14:21+00:00  2020-01-11 00:00:00+00:00   51.464859   \n",
       "1      2020-01-23 21:31:40+00:00  2020-01-23 00:00:00+00:00   27.974808   \n",
       "2      2020-01-31 00:35:21+00:00  2020-01-31 00:00:00+00:00   33.910326   \n",
       "3      2020-01-10 07:05:52+00:00  2020-01-10 00:00:00+00:00   36.252090   \n",
       "4      2020-01-08 05:31:16+00:00  2020-01-08 00:00:00+00:00   32.735906   \n",
       "...                          ...                        ...         ...   \n",
       "79372  2022-10-25 00:54:21+00:00  2022-10-25 00:00:00+00:00   42.672958   \n",
       "79373  2022-10-25 20:30:40+00:00  2022-10-25 00:00:00+00:00   27.238459   \n",
       "79374  2022-10-24 19:34:23+00:00  2022-10-24 00:00:00+00:00   37.325729   \n",
       "79375  2022-10-13 21:29:50+00:00  2022-10-13 00:00:00+00:00   29.519211   \n",
       "79376  2022-10-26 03:47:04+00:00  2022-10-26 00:00:00+00:00   30.337280   \n",
       "\n",
       "       longitude_1  latitude_2  longitude_2  \n",
       "0        -0.468849    1.323074   103.966509  \n",
       "1       -82.757897   27.983574   -82.762541  \n",
       "2      -112.797318   33.117634  -112.688337  \n",
       "3       140.251179   35.487981   139.841815  \n",
       "4      -117.199402   37.707642  -122.223485  \n",
       "...            ...         ...          ...  \n",
       "79372   -88.227456   42.681061   -88.178454  \n",
       "79373  -110.526898   33.428833  -112.006274  \n",
       "79374   -79.978891   35.046154   -80.937767  \n",
       "79375   -98.282899   29.511745   -98.277875  \n",
       "79376   -91.966122   38.209611   -85.756232  \n",
       "\n",
       "[79377 rows x 11 columns]"
      ]
     },
     "execution_count": 3,
     "metadata": {},
     "output_type": "execute_result"
    }
   ],
   "source": [
    "flight_df"
   ]
  },
  {
   "cell_type": "code",
   "execution_count": 4,
   "id": "7bcc5439",
   "metadata": {},
   "outputs": [],
   "source": [
    "# change columns name\n",
    "flight_df.rename(columns={'callsign':'airline_code','day':'date','firstseen':'dep_time','lastseen':'arr_time','latitude_1':'dep_lat','longitude_1':'dep_long','latitude_2':'arr_lat','longitude_2':'arr_long','origin':'org_airport','destination':'dst_airport'}, inplace=True )"
   ]
  },
  {
   "cell_type": "code",
   "execution_count": 5,
   "id": "8db08b89",
   "metadata": {},
   "outputs": [],
   "source": [
    "cargo_top5 = ['CLX','FDX','GEC','GTI','UPS']"
   ]
  },
  {
   "cell_type": "code",
   "execution_count": 6,
   "id": "b67b6ef3",
   "metadata": {},
   "outputs": [],
   "source": [
    "flight_df['cargo_airline'] = flight_df['airline_code'].isin(cargo_top5)"
   ]
  },
  {
   "cell_type": "code",
   "execution_count": 7,
   "id": "f3492a98",
   "metadata": {},
   "outputs": [
    {
     "data": {
      "text/html": [
       "<div>\n",
       "<style scoped>\n",
       "    .dataframe tbody tr th:only-of-type {\n",
       "        vertical-align: middle;\n",
       "    }\n",
       "\n",
       "    .dataframe tbody tr th {\n",
       "        vertical-align: top;\n",
       "    }\n",
       "\n",
       "    .dataframe thead th {\n",
       "        text-align: right;\n",
       "    }\n",
       "</style>\n",
       "<table border=\"1\" class=\"dataframe\">\n",
       "  <thead>\n",
       "    <tr style=\"text-align: right;\">\n",
       "      <th></th>\n",
       "      <th>Unnamed: 0</th>\n",
       "      <th>airline_code</th>\n",
       "      <th>org_airport</th>\n",
       "      <th>dst_airport</th>\n",
       "      <th>dep_time</th>\n",
       "      <th>arr_time</th>\n",
       "      <th>date</th>\n",
       "      <th>dep_lat</th>\n",
       "      <th>dep_long</th>\n",
       "      <th>arr_lat</th>\n",
       "      <th>arr_long</th>\n",
       "      <th>cargo_airline</th>\n",
       "    </tr>\n",
       "  </thead>\n",
       "  <tbody>\n",
       "    <tr>\n",
       "      <th>0</th>\n",
       "      <td>0</td>\n",
       "      <td>SIA</td>\n",
       "      <td>EGLL</td>\n",
       "      <td>WSSS</td>\n",
       "      <td>2020-01-11 11:09:45+00:00</td>\n",
       "      <td>2020-01-11 23:14:21+00:00</td>\n",
       "      <td>2020-01-11 00:00:00+00:00</td>\n",
       "      <td>51.464859</td>\n",
       "      <td>-0.468849</td>\n",
       "      <td>1.323074</td>\n",
       "      <td>103.966509</td>\n",
       "      <td>False</td>\n",
       "    </tr>\n",
       "    <tr>\n",
       "      <th>1</th>\n",
       "      <td>1</td>\n",
       "      <td>N87</td>\n",
       "      <td>KCLW</td>\n",
       "      <td>KCLW</td>\n",
       "      <td>2020-01-23 20:24:46+00:00</td>\n",
       "      <td>2020-01-23 21:31:40+00:00</td>\n",
       "      <td>2020-01-23 00:00:00+00:00</td>\n",
       "      <td>27.974808</td>\n",
       "      <td>-82.757897</td>\n",
       "      <td>27.983574</td>\n",
       "      <td>-82.762541</td>\n",
       "      <td>False</td>\n",
       "    </tr>\n",
       "    <tr>\n",
       "      <th>2</th>\n",
       "      <td>2</td>\n",
       "      <td>N42</td>\n",
       "      <td>KE25</td>\n",
       "      <td>AZ05</td>\n",
       "      <td>2020-01-31 00:10:22+00:00</td>\n",
       "      <td>2020-01-31 00:35:21+00:00</td>\n",
       "      <td>2020-01-31 00:00:00+00:00</td>\n",
       "      <td>33.910326</td>\n",
       "      <td>-112.797318</td>\n",
       "      <td>33.117634</td>\n",
       "      <td>-112.688337</td>\n",
       "      <td>False</td>\n",
       "    </tr>\n",
       "  </tbody>\n",
       "</table>\n",
       "</div>"
      ],
      "text/plain": [
       "   Unnamed: 0 airline_code org_airport dst_airport                   dep_time  \\\n",
       "0           0          SIA        EGLL        WSSS  2020-01-11 11:09:45+00:00   \n",
       "1           1          N87        KCLW        KCLW  2020-01-23 20:24:46+00:00   \n",
       "2           2          N42        KE25        AZ05  2020-01-31 00:10:22+00:00   \n",
       "\n",
       "                    arr_time                       date    dep_lat  \\\n",
       "0  2020-01-11 23:14:21+00:00  2020-01-11 00:00:00+00:00  51.464859   \n",
       "1  2020-01-23 21:31:40+00:00  2020-01-23 00:00:00+00:00  27.974808   \n",
       "2  2020-01-31 00:35:21+00:00  2020-01-31 00:00:00+00:00  33.910326   \n",
       "\n",
       "     dep_long    arr_lat    arr_long  cargo_airline  \n",
       "0   -0.468849   1.323074  103.966509          False  \n",
       "1  -82.757897  27.983574  -82.762541          False  \n",
       "2 -112.797318  33.117634 -112.688337          False  "
      ]
     },
     "execution_count": 7,
     "metadata": {},
     "output_type": "execute_result"
    }
   ],
   "source": [
    "flight_df.head(3)"
   ]
  },
  {
   "cell_type": "code",
   "execution_count": 8,
   "id": "f3325cb9",
   "metadata": {},
   "outputs": [
    {
     "name": "stdout",
     "output_type": "stream",
     "text": [
      "<class 'pandas.core.frame.DataFrame'>\n",
      "RangeIndex: 79377 entries, 0 to 79376\n",
      "Data columns (total 12 columns):\n",
      " #   Column         Non-Null Count  Dtype  \n",
      "---  ------         --------------  -----  \n",
      " 0   Unnamed: 0     79377 non-null  int64  \n",
      " 1   airline_code   79377 non-null  object \n",
      " 2   org_airport    60971 non-null  object \n",
      " 3   dst_airport    66120 non-null  object \n",
      " 4   dep_time       79377 non-null  object \n",
      " 5   arr_time       79377 non-null  object \n",
      " 6   date           79377 non-null  object \n",
      " 7   dep_lat        79377 non-null  float64\n",
      " 8   dep_long       79377 non-null  float64\n",
      " 9   arr_lat        79374 non-null  float64\n",
      " 10  arr_long       79374 non-null  float64\n",
      " 11  cargo_airline  79377 non-null  bool   \n",
      "dtypes: bool(1), float64(4), int64(1), object(6)\n",
      "memory usage: 6.7+ MB\n"
     ]
    },
    {
     "name": "stderr",
     "output_type": "stream",
     "text": [
      "C:\\Users\\dengd\\AppData\\Local\\Temp\\ipykernel_2520\\3011559432.py:1: FutureWarning: null_counts is deprecated. Use show_counts instead\n",
      "  flight_df.info(null_counts = True)\n"
     ]
    }
   ],
   "source": [
    "flight_df.info(null_counts = True)"
   ]
  },
  {
   "cell_type": "code",
   "execution_count": 9,
   "id": "04bacc62",
   "metadata": {},
   "outputs": [],
   "source": [
    "# drop null-values\n",
    "flight_df= flight_df.dropna()"
   ]
  },
  {
   "cell_type": "code",
   "execution_count": 10,
   "id": "e1647f16",
   "metadata": {},
   "outputs": [
    {
     "name": "stderr",
     "output_type": "stream",
     "text": [
      "C:\\Users\\dengd\\AppData\\Local\\Temp\\ipykernel_2520\\681663553.py:2: SettingWithCopyWarning: \n",
      "A value is trying to be set on a copy of a slice from a DataFrame\n",
      "\n",
      "See the caveats in the documentation: https://pandas.pydata.org/pandas-docs/stable/user_guide/indexing.html#returning-a-view-versus-a-copy\n",
      "  flight_df.drop(columns=['Unnamed: 0'], inplace=True)\n"
     ]
    }
   ],
   "source": [
    "# drop duplicated index column\n",
    "flight_df.drop(columns=['Unnamed: 0'], inplace=True)"
   ]
  },
  {
   "cell_type": "code",
   "execution_count": 11,
   "id": "3f6903ad",
   "metadata": {},
   "outputs": [
    {
     "name": "stderr",
     "output_type": "stream",
     "text": [
      "C:\\Users\\dengd\\AppData\\Local\\Temp\\ipykernel_2520\\3890752966.py:2: SettingWithCopyWarning: \n",
      "A value is trying to be set on a copy of a slice from a DataFrame\n",
      "\n",
      "See the caveats in the documentation: https://pandas.pydata.org/pandas-docs/stable/user_guide/indexing.html#returning-a-view-versus-a-copy\n",
      "  flight_df.drop_duplicates(inplace = True)\n"
     ]
    }
   ],
   "source": [
    "# delete duplicated rows\n",
    "flight_df.drop_duplicates(inplace = True)"
   ]
  },
  {
   "cell_type": "code",
   "execution_count": 12,
   "id": "bdd00129",
   "metadata": {},
   "outputs": [],
   "source": [
    "# reset index\n",
    "flight_df.reset_index(drop = True, inplace = True)"
   ]
  },
  {
   "cell_type": "code",
   "execution_count": 13,
   "id": "8df1690b",
   "metadata": {},
   "outputs": [],
   "source": [
    "# rearrange columns\n",
    "flight_df = flight_df[[\n",
    " 'airline_code',\n",
    " 'date',\n",
    " 'dep_time',\n",
    " 'arr_time',\n",
    " 'dep_lat',\n",
    " 'dep_long',\n",
    " 'arr_lat',\n",
    " 'arr_long',\n",
    " 'cargo_airline',\n",
    " 'org_airport',\n",
    " 'dst_airport'   \n",
    "]]"
   ]
  },
  {
   "cell_type": "code",
   "execution_count": 14,
   "id": "e29d3e76",
   "metadata": {},
   "outputs": [
    {
     "name": "stdout",
     "output_type": "stream",
     "text": [
      "<class 'pandas.core.frame.DataFrame'>\n",
      "RangeIndex: 51159 entries, 0 to 51158\n",
      "Data columns (total 11 columns):\n",
      " #   Column         Non-Null Count  Dtype  \n",
      "---  ------         --------------  -----  \n",
      " 0   airline_code   51159 non-null  object \n",
      " 1   date           51159 non-null  object \n",
      " 2   dep_time       51159 non-null  object \n",
      " 3   arr_time       51159 non-null  object \n",
      " 4   dep_lat        51159 non-null  float64\n",
      " 5   dep_long       51159 non-null  float64\n",
      " 6   arr_lat        51159 non-null  float64\n",
      " 7   arr_long       51159 non-null  float64\n",
      " 8   cargo_airline  51159 non-null  bool   \n",
      " 9   org_airport    51159 non-null  object \n",
      " 10  dst_airport    51159 non-null  object \n",
      "dtypes: bool(1), float64(4), object(6)\n",
      "memory usage: 4.0+ MB\n"
     ]
    },
    {
     "name": "stderr",
     "output_type": "stream",
     "text": [
      "C:\\Users\\dengd\\AppData\\Local\\Temp\\ipykernel_2520\\3011559432.py:1: FutureWarning: null_counts is deprecated. Use show_counts instead\n",
      "  flight_df.info(null_counts = True)\n"
     ]
    }
   ],
   "source": [
    "flight_df.info(null_counts = True)"
   ]
  },
  {
   "cell_type": "code",
   "execution_count": 15,
   "id": "d61429fd",
   "metadata": {},
   "outputs": [],
   "source": [
    "flight_df[['dep_time', 'arr_time','date']] = flight_df[['dep_time', 'arr_time','date']].apply(pd.to_datetime)"
   ]
  },
  {
   "cell_type": "code",
   "execution_count": 16,
   "id": "6fbfb57a",
   "metadata": {},
   "outputs": [],
   "source": [
    "flight_df.to_csv(\"flight_cleaned.csv\")"
   ]
  }
 ],
 "metadata": {
  "kernelspec": {
   "display_name": "Python 3 (ipykernel)",
   "language": "python",
   "name": "python3"
  },
  "language_info": {
   "codemirror_mode": {
    "name": "ipython",
    "version": 3
   },
   "file_extension": ".py",
   "mimetype": "text/x-python",
   "name": "python",
   "nbconvert_exporter": "python",
   "pygments_lexer": "ipython3",
   "version": "3.9.13"
  }
 },
 "nbformat": 4,
 "nbformat_minor": 5
}
