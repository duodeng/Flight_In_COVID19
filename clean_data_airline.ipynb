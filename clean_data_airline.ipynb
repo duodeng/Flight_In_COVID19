{
 "cells": [
  {
   "cell_type": "code",
   "execution_count": 1,
   "id": "c1407985",
   "metadata": {},
   "outputs": [],
   "source": [
    "import numpy as np\n",
    "import pandas as pd"
   ]
  },
  {
   "cell_type": "code",
   "execution_count": 3,
   "id": "6e37b60c",
   "metadata": {},
   "outputs": [],
   "source": [
    "code_df = pd.read_csv('data/airline_code.csv')"
   ]
  },
  {
   "cell_type": "code",
   "execution_count": 4,
   "id": "fe643aa5",
   "metadata": {},
   "outputs": [
    {
     "data": {
      "text/html": [
       "<div>\n",
       "<style scoped>\n",
       "    .dataframe tbody tr th:only-of-type {\n",
       "        vertical-align: middle;\n",
       "    }\n",
       "\n",
       "    .dataframe tbody tr th {\n",
       "        vertical-align: top;\n",
       "    }\n",
       "\n",
       "    .dataframe thead th {\n",
       "        text-align: right;\n",
       "    }\n",
       "</style>\n",
       "<table border=\"1\" class=\"dataframe\">\n",
       "  <thead>\n",
       "    <tr style=\"text-align: right;\">\n",
       "      <th></th>\n",
       "      <th>ICAO</th>\n",
       "      <th>Airline</th>\n",
       "      <th>Country/Region</th>\n",
       "    </tr>\n",
       "  </thead>\n",
       "  <tbody>\n",
       "    <tr>\n",
       "      <th>0</th>\n",
       "      <td>BOI</td>\n",
       "      <td>2GO</td>\n",
       "      <td>Philippines</td>\n",
       "    </tr>\n",
       "    <tr>\n",
       "      <th>1</th>\n",
       "      <td>EVY</td>\n",
       "      <td>34 Squadron, Royal Australian Air Force</td>\n",
       "      <td>NaN</td>\n",
       "    </tr>\n",
       "    <tr>\n",
       "      <th>2</th>\n",
       "      <td>GNL</td>\n",
       "      <td>135 Airways</td>\n",
       "      <td>United States</td>\n",
       "    </tr>\n",
       "    <tr>\n",
       "      <th>3</th>\n",
       "      <td>NaN</td>\n",
       "      <td>Amadeus IT Group S.A.</td>\n",
       "      <td>Global</td>\n",
       "    </tr>\n",
       "    <tr>\n",
       "      <th>4</th>\n",
       "      <td>NaN</td>\n",
       "      <td>Sabre travel network Asia-Pacific (ex-Abacus)</td>\n",
       "      <td>APAC</td>\n",
       "    </tr>\n",
       "    <tr>\n",
       "      <th>...</th>\n",
       "      <td>...</td>\n",
       "      <td>...</td>\n",
       "      <td>...</td>\n",
       "    </tr>\n",
       "    <tr>\n",
       "      <th>6281</th>\n",
       "      <td>CYN</td>\n",
       "      <td>Zhongyuan Aviation</td>\n",
       "      <td>China</td>\n",
       "    </tr>\n",
       "    <tr>\n",
       "      <th>6282</th>\n",
       "      <td>WZP</td>\n",
       "      <td>Zip</td>\n",
       "      <td>Canada</td>\n",
       "    </tr>\n",
       "    <tr>\n",
       "      <th>6283</th>\n",
       "      <td>TZP</td>\n",
       "      <td>Zipair Tokyo</td>\n",
       "      <td>Japan</td>\n",
       "    </tr>\n",
       "    <tr>\n",
       "      <th>6284</th>\n",
       "      <td>OOM</td>\n",
       "      <td>Zoom Airlines</td>\n",
       "      <td>Canada</td>\n",
       "    </tr>\n",
       "    <tr>\n",
       "      <th>6285</th>\n",
       "      <td>ORZ</td>\n",
       "      <td>Zorex</td>\n",
       "      <td>Spain</td>\n",
       "    </tr>\n",
       "  </tbody>\n",
       "</table>\n",
       "<p>6286 rows × 3 columns</p>\n",
       "</div>"
      ],
      "text/plain": [
       "     ICAO                                        Airline Country/Region\n",
       "0     BOI                                            2GO    Philippines\n",
       "1     EVY        34 Squadron, Royal Australian Air Force            NaN\n",
       "2     GNL                                    135 Airways  United States\n",
       "3     NaN                          Amadeus IT Group S.A.         Global\n",
       "4     NaN  Sabre travel network Asia-Pacific (ex-Abacus)           APAC\n",
       "...   ...                                            ...            ...\n",
       "6281  CYN                             Zhongyuan Aviation          China\n",
       "6282  WZP                                            Zip         Canada\n",
       "6283  TZP                                   Zipair Tokyo          Japan\n",
       "6284  OOM                                  Zoom Airlines         Canada\n",
       "6285  ORZ                                          Zorex          Spain\n",
       "\n",
       "[6286 rows x 3 columns]"
      ]
     },
     "execution_count": 4,
     "metadata": {},
     "output_type": "execute_result"
    }
   ],
   "source": [
    "code_df"
   ]
  },
  {
   "cell_type": "code",
   "execution_count": 6,
   "id": "f3325cb9",
   "metadata": {},
   "outputs": [
    {
     "name": "stdout",
     "output_type": "stream",
     "text": [
      "<class 'pandas.core.frame.DataFrame'>\n",
      "RangeIndex: 6286 entries, 0 to 6285\n",
      "Data columns (total 3 columns):\n",
      " #   Column          Non-Null Count  Dtype \n",
      "---  ------          --------------  ----- \n",
      " 0   ICAO            6178 non-null   object\n",
      " 1   Airline         6285 non-null   object\n",
      " 2   Country/Region  6270 non-null   object\n",
      "dtypes: object(3)\n",
      "memory usage: 147.5+ KB\n"
     ]
    }
   ],
   "source": [
    "code_df.info(show_counts = True)"
   ]
  },
  {
   "cell_type": "code",
   "execution_count": 7,
   "id": "04bacc62",
   "metadata": {},
   "outputs": [],
   "source": [
    "# drop null-values\n",
    "code_df = code_df.dropna()"
   ]
  },
  {
   "cell_type": "code",
   "execution_count": 8,
   "id": "e1647f16",
   "metadata": {},
   "outputs": [
    {
     "name": "stdout",
     "output_type": "stream",
     "text": [
      "<class 'pandas.core.frame.DataFrame'>\n",
      "Int64Index: 6166 entries, 0 to 6285\n",
      "Data columns (total 3 columns):\n",
      " #   Column          Non-Null Count  Dtype \n",
      "---  ------          --------------  ----- \n",
      " 0   ICAO            6166 non-null   object\n",
      " 1   Airline         6166 non-null   object\n",
      " 2   Country/Region  6166 non-null   object\n",
      "dtypes: object(3)\n",
      "memory usage: 192.7+ KB\n"
     ]
    }
   ],
   "source": [
    "code_df.info(show_counts = True)"
   ]
  },
  {
   "cell_type": "code",
   "execution_count": 9,
   "id": "3f6903ad",
   "metadata": {},
   "outputs": [
    {
     "name": "stderr",
     "output_type": "stream",
     "text": [
      "/var/folders/bw/0thxs7yn1z3blkjjv4d_d27w0000gn/T/ipykernel_24725/3456228428.py:2: SettingWithCopyWarning: \n",
      "A value is trying to be set on a copy of a slice from a DataFrame\n",
      "\n",
      "See the caveats in the documentation: https://pandas.pydata.org/pandas-docs/stable/user_guide/indexing.html#returning-a-view-versus-a-copy\n",
      "  code_df.drop_duplicates(inplace = True)\n"
     ]
    }
   ],
   "source": [
    "# delete duplicated rows\n",
    "code_df.drop_duplicates(inplace = True)"
   ]
  },
  {
   "cell_type": "code",
   "execution_count": 10,
   "id": "9a50aa74",
   "metadata": {},
   "outputs": [
    {
     "name": "stdout",
     "output_type": "stream",
     "text": [
      "<class 'pandas.core.frame.DataFrame'>\n",
      "Int64Index: 6144 entries, 0 to 6284\n",
      "Data columns (total 3 columns):\n",
      " #   Column          Non-Null Count  Dtype \n",
      "---  ------          --------------  ----- \n",
      " 0   ICAO            6144 non-null   object\n",
      " 1   Airline         6144 non-null   object\n",
      " 2   Country/Region  6144 non-null   object\n",
      "dtypes: object(3)\n",
      "memory usage: 192.0+ KB\n"
     ]
    }
   ],
   "source": [
    "code_df.info(show_counts = True)"
   ]
  },
  {
   "cell_type": "code",
   "execution_count": 12,
   "id": "bdd00129",
   "metadata": {},
   "outputs": [],
   "source": [
    "# reset index\n",
    "flight_df.reset_index(drop = True, inplace = True)"
   ]
  },
  {
   "cell_type": "code",
   "execution_count": 13,
   "id": "8df1690b",
   "metadata": {},
   "outputs": [],
   "source": [
    "# rearrange columns\n",
    "flight_df = flight_df[[\n",
    " 'airline_code',\n",
    " 'date',\n",
    " 'dep_time',\n",
    " 'arr_time',\n",
    " 'dep_lat',\n",
    " 'dep_long',\n",
    " 'arr_lat',\n",
    " 'arr_long',\n",
    " 'cargo_airline',\n",
    " 'org_airport',\n",
    " 'dst_airport'   \n",
    "]]"
   ]
  },
  {
   "cell_type": "code",
   "execution_count": 14,
   "id": "e29d3e76",
   "metadata": {},
   "outputs": [
    {
     "name": "stdout",
     "output_type": "stream",
     "text": [
      "<class 'pandas.core.frame.DataFrame'>\n",
      "RangeIndex: 51159 entries, 0 to 51158\n",
      "Data columns (total 11 columns):\n",
      " #   Column         Non-Null Count  Dtype  \n",
      "---  ------         --------------  -----  \n",
      " 0   airline_code   51159 non-null  object \n",
      " 1   date           51159 non-null  object \n",
      " 2   dep_time       51159 non-null  object \n",
      " 3   arr_time       51159 non-null  object \n",
      " 4   dep_lat        51159 non-null  float64\n",
      " 5   dep_long       51159 non-null  float64\n",
      " 6   arr_lat        51159 non-null  float64\n",
      " 7   arr_long       51159 non-null  float64\n",
      " 8   cargo_airline  51159 non-null  bool   \n",
      " 9   org_airport    51159 non-null  object \n",
      " 10  dst_airport    51159 non-null  object \n",
      "dtypes: bool(1), float64(4), object(6)\n",
      "memory usage: 4.0+ MB\n"
     ]
    },
    {
     "name": "stderr",
     "output_type": "stream",
     "text": [
      "C:\\Users\\dengd\\AppData\\Local\\Temp\\ipykernel_2520\\3011559432.py:1: FutureWarning: null_counts is deprecated. Use show_counts instead\n",
      "  flight_df.info(null_counts = True)\n"
     ]
    }
   ],
   "source": [
    "flight_df.info(null_counts = True)"
   ]
  },
  {
   "cell_type": "code",
   "execution_count": 15,
   "id": "d61429fd",
   "metadata": {},
   "outputs": [],
   "source": [
    "flight_df[['dep_time', 'arr_time','date']] = flight_df[['dep_time', 'arr_time','date']].apply(pd.to_datetime)"
   ]
  },
  {
   "cell_type": "code",
   "execution_count": 16,
   "id": "6fbfb57a",
   "metadata": {},
   "outputs": [],
   "source": [
    "flight_df.to_csv(\"flight_cleaned.csv\")"
   ]
  }
 ],
 "metadata": {
  "kernelspec": {
   "display_name": "Python 3 (ipykernel)",
   "language": "python",
   "name": "python3"
  },
  "language_info": {
   "codemirror_mode": {
    "name": "ipython",
    "version": 3
   },
   "file_extension": ".py",
   "mimetype": "text/x-python",
   "name": "python",
   "nbconvert_exporter": "python",
   "pygments_lexer": "ipython3",
   "version": "3.9.12"
  }
 },
 "nbformat": 4,
 "nbformat_minor": 5
}
