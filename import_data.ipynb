{
 "cells": [
  {
   "cell_type": "code",
   "execution_count": 1,
   "id": "797b1295",
   "metadata": {},
   "outputs": [],
   "source": [
    "import numpy as np\n",
    "import pandas as pd\n",
    "import os"
   ]
  },
  {
   "cell_type": "code",
   "execution_count": 2,
   "id": "37c3ca2f",
   "metadata": {},
   "outputs": [],
   "source": [
    "# Define the directory where the datasets are stored\n",
    "directory = 'D:/Germany/data analysis/Ironhack/course/dataset/flight/after extract'\n",
    "\n",
    "# Get the list of all csv files in the directory\n",
    "files = []\n",
    "for filename in os.listdir(directory):\n",
    "    if filename.endswith('.csv'):\n",
    "        files.append(os.path.join(directory, filename))      "
   ]
  },
  {
   "cell_type": "code",
   "execution_count": 3,
   "id": "2bc04b49",
   "metadata": {},
   "outputs": [
    {
     "data": {
      "text/plain": [
       "['D:/Germany/data analysis/Ironhack/course/dataset/flight/after extract\\\\flightlist_20200101_20200131.csv',\n",
       " 'D:/Germany/data analysis/Ironhack/course/dataset/flight/after extract\\\\flightlist_20200201_20200229.csv',\n",
       " 'D:/Germany/data analysis/Ironhack/course/dataset/flight/after extract\\\\flightlist_20200301_20200331.csv',\n",
       " 'D:/Germany/data analysis/Ironhack/course/dataset/flight/after extract\\\\flightlist_20200401_20200430.csv',\n",
       " 'D:/Germany/data analysis/Ironhack/course/dataset/flight/after extract\\\\flightlist_20200501_20200531.csv',\n",
       " 'D:/Germany/data analysis/Ironhack/course/dataset/flight/after extract\\\\flightlist_20200601_20200630.csv',\n",
       " 'D:/Germany/data analysis/Ironhack/course/dataset/flight/after extract\\\\flightlist_20200701_20200731.csv',\n",
       " 'D:/Germany/data analysis/Ironhack/course/dataset/flight/after extract\\\\flightlist_20200801_20200831.csv',\n",
       " 'D:/Germany/data analysis/Ironhack/course/dataset/flight/after extract\\\\flightlist_20200901_20200930.csv',\n",
       " 'D:/Germany/data analysis/Ironhack/course/dataset/flight/after extract\\\\flightlist_20201001_20201031.csv',\n",
       " 'D:/Germany/data analysis/Ironhack/course/dataset/flight/after extract\\\\flightlist_20201101_20201130.csv',\n",
       " 'D:/Germany/data analysis/Ironhack/course/dataset/flight/after extract\\\\flightlist_20201201_20201231.csv',\n",
       " 'D:/Germany/data analysis/Ironhack/course/dataset/flight/after extract\\\\flightlist_20210101_20210131.csv',\n",
       " 'D:/Germany/data analysis/Ironhack/course/dataset/flight/after extract\\\\flightlist_20210201_20210228.csv',\n",
       " 'D:/Germany/data analysis/Ironhack/course/dataset/flight/after extract\\\\flightlist_20210301_20210331.csv',\n",
       " 'D:/Germany/data analysis/Ironhack/course/dataset/flight/after extract\\\\flightlist_20210401_20210430.csv',\n",
       " 'D:/Germany/data analysis/Ironhack/course/dataset/flight/after extract\\\\flightlist_20210501_20210530.csv',\n",
       " 'D:/Germany/data analysis/Ironhack/course/dataset/flight/after extract\\\\flightlist_20210601_20210630.csv',\n",
       " 'D:/Germany/data analysis/Ironhack/course/dataset/flight/after extract\\\\flightlist_20210701_20210731.csv',\n",
       " 'D:/Germany/data analysis/Ironhack/course/dataset/flight/after extract\\\\flightlist_20210801_20210831.csv',\n",
       " 'D:/Germany/data analysis/Ironhack/course/dataset/flight/after extract\\\\flightlist_20210901_20210930.csv',\n",
       " 'D:/Germany/data analysis/Ironhack/course/dataset/flight/after extract\\\\flightlist_20211001_20211031.csv',\n",
       " 'D:/Germany/data analysis/Ironhack/course/dataset/flight/after extract\\\\flightlist_20211101_20211130.csv',\n",
       " 'D:/Germany/data analysis/Ironhack/course/dataset/flight/after extract\\\\flightlist_20211201_20211231.csv',\n",
       " 'D:/Germany/data analysis/Ironhack/course/dataset/flight/after extract\\\\flightlist_20220101_20220131.csv',\n",
       " 'D:/Germany/data analysis/Ironhack/course/dataset/flight/after extract\\\\flightlist_20220201_20220228.csv',\n",
       " 'D:/Germany/data analysis/Ironhack/course/dataset/flight/after extract\\\\flightlist_20220301_20220331.csv',\n",
       " 'D:/Germany/data analysis/Ironhack/course/dataset/flight/after extract\\\\flightlist_20220401_20220430.csv',\n",
       " 'D:/Germany/data analysis/Ironhack/course/dataset/flight/after extract\\\\flightlist_20220501_20220530.csv',\n",
       " 'D:/Germany/data analysis/Ironhack/course/dataset/flight/after extract\\\\flightlist_20220601_20220630.csv',\n",
       " 'D:/Germany/data analysis/Ironhack/course/dataset/flight/after extract\\\\flightlist_20220701_20220731.csv',\n",
       " 'D:/Germany/data analysis/Ironhack/course/dataset/flight/after extract\\\\flightlist_20220801_20220830.csv',\n",
       " 'D:/Germany/data analysis/Ironhack/course/dataset/flight/after extract\\\\flightlist_20220901_20220930.csv',\n",
       " 'D:/Germany/data analysis/Ironhack/course/dataset/flight/after extract\\\\flightlist_20221001_20221031.csv']"
      ]
     },
     "execution_count": 3,
     "metadata": {},
     "output_type": "execute_result"
    }
   ],
   "source": [
    "files"
   ]
  },
  {
   "cell_type": "code",
   "execution_count": 4,
   "id": "c63c2d8b",
   "metadata": {},
   "outputs": [],
   "source": [
    "# Create a dictionary to store the dataframes\n",
    "dataframes = {}\n",
    "for file in files:\n",
    "    df = pd.read_csv(file)\n",
    "    # Sample 0.1% of the data from each dataframe\n",
    "    df = df.sample(frac=0.01)\n",
    "    # Add the dataframe to the dictionary using the filename as key\n",
    "    dataframes[os.path.basename(file)] = df"
   ]
  },
  {
   "cell_type": "code",
   "execution_count": 5,
   "id": "a38d24b6",
   "metadata": {},
   "outputs": [],
   "source": [
    "# Concatenate the dataframes in the dictionary into one large dataframe\n",
    "flight_concat = pd.concat(dataframes.values(), ignore_index=True)"
   ]
  },
  {
   "cell_type": "code",
   "execution_count": 6,
   "id": "48e7a5d1",
   "metadata": {},
   "outputs": [
    {
     "name": "stdout",
     "output_type": "stream",
     "text": [
      "<class 'pandas.core.frame.DataFrame'>\n",
      "RangeIndex: 793798 entries, 0 to 793797\n",
      "Data columns (total 16 columns):\n",
      " #   Column        Non-Null Count   Dtype  \n",
      "---  ------        --------------   -----  \n",
      " 0   callsign      793798 non-null  object \n",
      " 1   number        198947 non-null  object \n",
      " 2   icao24        793794 non-null  object \n",
      " 3   registration  632504 non-null  object \n",
      " 4   typecode      473326 non-null  object \n",
      " 5   origin        607271 non-null  object \n",
      " 6   destination   658520 non-null  object \n",
      " 7   firstseen     793798 non-null  object \n",
      " 8   lastseen      793798 non-null  object \n",
      " 9   day           793798 non-null  object \n",
      " 10  latitude_1    793798 non-null  float64\n",
      " 11  longitude_1   793798 non-null  float64\n",
      " 12  altitude_1    793798 non-null  float64\n",
      " 13  latitude_2    793780 non-null  float64\n",
      " 14  longitude_2   793780 non-null  float64\n",
      " 15  altitude_2    782562 non-null  float64\n",
      "dtypes: float64(6), object(10)\n",
      "memory usage: 96.9+ MB\n"
     ]
    }
   ],
   "source": [
    "flight_concat.info()"
   ]
  },
  {
   "cell_type": "code",
   "execution_count": 7,
   "id": "3c7224d1",
   "metadata": {},
   "outputs": [],
   "source": [
    "# drop irrelevant columns \n",
    "columns_to_drop = ['number', 'icao24', 'registration', 'typecode', 'altitude_1', 'altitude_2']\n",
    "flight_concat.drop(columns_to_drop, axis=1, inplace=True)"
   ]
  },
  {
   "cell_type": "code",
   "execution_count": 8,
   "id": "5ec4758e",
   "metadata": {},
   "outputs": [],
   "source": [
    "# extract 3-letter code from every rows in callsign column\n",
    "flight_concat['callsign'] = flight_concat['callsign'].str[:3]"
   ]
  },
  {
   "cell_type": "code",
   "execution_count": 9,
   "id": "01333d62",
   "metadata": {},
   "outputs": [
    {
     "name": "stdout",
     "output_type": "stream",
     "text": [
      "<class 'pandas.core.frame.DataFrame'>\n",
      "RangeIndex: 793798 entries, 0 to 793797\n",
      "Data columns (total 10 columns):\n",
      " #   Column       Non-Null Count   Dtype  \n",
      "---  ------       --------------   -----  \n",
      " 0   callsign     793798 non-null  object \n",
      " 1   origin       607271 non-null  object \n",
      " 2   destination  658520 non-null  object \n",
      " 3   firstseen    793798 non-null  object \n",
      " 4   lastseen     793798 non-null  object \n",
      " 5   day          793798 non-null  object \n",
      " 6   latitude_1   793798 non-null  float64\n",
      " 7   longitude_1  793798 non-null  float64\n",
      " 8   latitude_2   793780 non-null  float64\n",
      " 9   longitude_2  793780 non-null  float64\n",
      "dtypes: float64(4), object(6)\n",
      "memory usage: 60.6+ MB\n"
     ]
    }
   ],
   "source": [
    "flight_concat.info()"
   ]
  },
  {
   "cell_type": "code",
   "execution_count": 10,
   "id": "70da3854",
   "metadata": {},
   "outputs": [],
   "source": [
    "flight_concat.to_csv(\"flight_df.csv\")"
   ]
  }
 ],
 "metadata": {
  "kernelspec": {
   "display_name": "Python 3 (ipykernel)",
   "language": "python",
   "name": "python3"
  },
  "language_info": {
   "codemirror_mode": {
    "name": "ipython",
    "version": 3
   },
   "file_extension": ".py",
   "mimetype": "text/x-python",
   "name": "python",
   "nbconvert_exporter": "python",
   "pygments_lexer": "ipython3",
   "version": "3.9.13"
  }
 },
 "nbformat": 4,
 "nbformat_minor": 5
}
