{
 "cells": [
  {
   "cell_type": "code",
   "execution_count": 1,
   "id": "797b1295",
   "metadata": {},
   "outputs": [],
   "source": [
    "import numpy as np\n",
    "import pandas as pd\n",
    "import os"
   ]
  },
  {
   "cell_type": "code",
   "execution_count": 2,
   "id": "37c3ca2f",
   "metadata": {},
   "outputs": [],
   "source": [
    "# Define the directory where the datasets are stored\n",
    "directory = 'D:/Germany/data analysis/Ironhack/course/dataset/flight/after extract'\n",
    "\n",
    "# Get the list of all csv files in the directory\n",
    "files = []\n",
    "for filename in os.listdir(directory):\n",
    "    if filename.endswith('.csv'):\n",
    "        files.append(os.path.join(directory, filename))      "
   ]
  },
  {
   "cell_type": "code",
   "execution_count": 3,
   "id": "2bc04b49",
   "metadata": {},
   "outputs": [
    {
     "data": {
      "text/plain": [
       "['D:/Germany/data analysis/Ironhack/course/dataset/flight/after extract\\\\flightlist_20200101_20200131.csv',\n",
       " 'D:/Germany/data analysis/Ironhack/course/dataset/flight/after extract\\\\flightlist_20200201_20200229.csv',\n",
       " 'D:/Germany/data analysis/Ironhack/course/dataset/flight/after extract\\\\flightlist_20200301_20200331.csv',\n",
       " 'D:/Germany/data analysis/Ironhack/course/dataset/flight/after extract\\\\flightlist_20200401_20200430.csv',\n",
       " 'D:/Germany/data analysis/Ironhack/course/dataset/flight/after extract\\\\flightlist_20200501_20200531.csv',\n",
       " 'D:/Germany/data analysis/Ironhack/course/dataset/flight/after extract\\\\flightlist_20200601_20200630.csv',\n",
       " 'D:/Germany/data analysis/Ironhack/course/dataset/flight/after extract\\\\flightlist_20200701_20200731.csv',\n",
       " 'D:/Germany/data analysis/Ironhack/course/dataset/flight/after extract\\\\flightlist_20200801_20200831.csv',\n",
       " 'D:/Germany/data analysis/Ironhack/course/dataset/flight/after extract\\\\flightlist_20200901_20200930.csv',\n",
       " 'D:/Germany/data analysis/Ironhack/course/dataset/flight/after extract\\\\flightlist_20201001_20201031.csv',\n",
       " 'D:/Germany/data analysis/Ironhack/course/dataset/flight/after extract\\\\flightlist_20201101_20201130.csv',\n",
       " 'D:/Germany/data analysis/Ironhack/course/dataset/flight/after extract\\\\flightlist_20201201_20201231.csv',\n",
       " 'D:/Germany/data analysis/Ironhack/course/dataset/flight/after extract\\\\flightlist_20210101_20210131.csv',\n",
       " 'D:/Germany/data analysis/Ironhack/course/dataset/flight/after extract\\\\flightlist_20210201_20210228.csv',\n",
       " 'D:/Germany/data analysis/Ironhack/course/dataset/flight/after extract\\\\flightlist_20210301_20210331.csv',\n",
       " 'D:/Germany/data analysis/Ironhack/course/dataset/flight/after extract\\\\flightlist_20210401_20210430.csv',\n",
       " 'D:/Germany/data analysis/Ironhack/course/dataset/flight/after extract\\\\flightlist_20210501_20210530.csv',\n",
       " 'D:/Germany/data analysis/Ironhack/course/dataset/flight/after extract\\\\flightlist_20210601_20210630.csv',\n",
       " 'D:/Germany/data analysis/Ironhack/course/dataset/flight/after extract\\\\flightlist_20210701_20210731.csv',\n",
       " 'D:/Germany/data analysis/Ironhack/course/dataset/flight/after extract\\\\flightlist_20210801_20210831.csv',\n",
       " 'D:/Germany/data analysis/Ironhack/course/dataset/flight/after extract\\\\flightlist_20210901_20210930.csv',\n",
       " 'D:/Germany/data analysis/Ironhack/course/dataset/flight/after extract\\\\flightlist_20211001_20211031.csv',\n",
       " 'D:/Germany/data analysis/Ironhack/course/dataset/flight/after extract\\\\flightlist_20211101_20211130.csv',\n",
       " 'D:/Germany/data analysis/Ironhack/course/dataset/flight/after extract\\\\flightlist_20211201_20211231.csv',\n",
       " 'D:/Germany/data analysis/Ironhack/course/dataset/flight/after extract\\\\flightlist_20220101_20220131.csv',\n",
       " 'D:/Germany/data analysis/Ironhack/course/dataset/flight/after extract\\\\flightlist_20220201_20220228.csv',\n",
       " 'D:/Germany/data analysis/Ironhack/course/dataset/flight/after extract\\\\flightlist_20220301_20220331.csv',\n",
       " 'D:/Germany/data analysis/Ironhack/course/dataset/flight/after extract\\\\flightlist_20220401_20220430.csv',\n",
       " 'D:/Germany/data analysis/Ironhack/course/dataset/flight/after extract\\\\flightlist_20220501_20220530.csv',\n",
       " 'D:/Germany/data analysis/Ironhack/course/dataset/flight/after extract\\\\flightlist_20220601_20220630.csv',\n",
       " 'D:/Germany/data analysis/Ironhack/course/dataset/flight/after extract\\\\flightlist_20220701_20220731.csv',\n",
       " 'D:/Germany/data analysis/Ironhack/course/dataset/flight/after extract\\\\flightlist_20220801_20220830.csv',\n",
       " 'D:/Germany/data analysis/Ironhack/course/dataset/flight/after extract\\\\flightlist_20220901_20220930.csv',\n",
       " 'D:/Germany/data analysis/Ironhack/course/dataset/flight/after extract\\\\flightlist_20221001_20221031.csv']"
      ]
     },
     "execution_count": 3,
     "metadata": {},
     "output_type": "execute_result"
    }
   ],
   "source": [
    "files"
   ]
  },
  {
   "cell_type": "code",
   "execution_count": 4,
   "id": "79169a8d",
   "metadata": {},
   "outputs": [],
   "source": [
    "# Load the df 'airline_code'\n",
    "airline_code = pd.read_csv('C:/Users/dengd/Documents/GitHub/Flight_In_COVID19/airline_code.csv')"
   ]
  },
  {
   "cell_type": "code",
   "execution_count": 5,
   "id": "1229f4fb",
   "metadata": {},
   "outputs": [],
   "source": [
    "# Create a dictionary to store the dataframes\n",
    "dataframes = {}\n",
    "for file in files:\n",
    "    df = pd.read_csv(file)\n",
    "    # Select only the columns of interest\n",
    "    df = df[['callsign', 'firstseen', 'lastseen', 'day', 'origin', 'destination', 'latitude_1', 'longitude_1', 'latitude_2', 'longitude_2']]\n",
    "    # Extract the first three characters from each callsign\n",
    "    df['callsign'] = df['callsign'].str[:3]\n",
    "    # Remove any rows with missing values\n",
    "    df = df.dropna()\n",
    "    # Remove rows where the callsign is not in the ICAO column of the airline_code DataFrame\n",
    "    df = df[df['callsign'].isin(airline_code['ICAO'])]\n",
    "    # Sample 0.1% of the data from each dataframe\n",
    "    df = df.sample(frac=0.01,random_state =0)\n",
    "    # Add the dataframe to the dictionary using the filename as key\n",
    "    dataframes[os.path.basename(file)] = df"
   ]
  },
  {
   "cell_type": "code",
   "execution_count": 6,
   "id": "e3a5962a",
   "metadata": {},
   "outputs": [],
   "source": [
    "# Concatenate the dataframes in the dictionary into one large dataframe\n",
    "flight_concat = pd.concat(dataframes.values(), ignore_index=True)"
   ]
  },
  {
   "cell_type": "code",
   "execution_count": 7,
   "id": "9aac0e67",
   "metadata": {},
   "outputs": [
    {
     "name": "stdout",
     "output_type": "stream",
     "text": [
      "<class 'pandas.core.frame.DataFrame'>\n",
      "RangeIndex: 317163 entries, 0 to 317162\n",
      "Data columns (total 10 columns):\n",
      " #   Column       Non-Null Count   Dtype  \n",
      "---  ------       --------------   -----  \n",
      " 0   callsign     317163 non-null  object \n",
      " 1   firstseen    317163 non-null  object \n",
      " 2   lastseen     317163 non-null  object \n",
      " 3   day          317163 non-null  object \n",
      " 4   origin       317163 non-null  object \n",
      " 5   destination  317163 non-null  object \n",
      " 6   latitude_1   317163 non-null  float64\n",
      " 7   longitude_1  317163 non-null  float64\n",
      " 8   latitude_2   317163 non-null  float64\n",
      " 9   longitude_2  317163 non-null  float64\n",
      "dtypes: float64(4), object(6)\n",
      "memory usage: 24.2+ MB\n"
     ]
    }
   ],
   "source": [
    "flight_concat.info()"
   ]
  },
  {
   "cell_type": "code",
   "execution_count": 9,
   "id": "01333d62",
   "metadata": {},
   "outputs": [
    {
     "data": {
      "text/html": [
       "<div>\n",
       "<style scoped>\n",
       "    .dataframe tbody tr th:only-of-type {\n",
       "        vertical-align: middle;\n",
       "    }\n",
       "\n",
       "    .dataframe tbody tr th {\n",
       "        vertical-align: top;\n",
       "    }\n",
       "\n",
       "    .dataframe thead th {\n",
       "        text-align: right;\n",
       "    }\n",
       "</style>\n",
       "<table border=\"1\" class=\"dataframe\">\n",
       "  <thead>\n",
       "    <tr style=\"text-align: right;\">\n",
       "      <th></th>\n",
       "      <th>callsign</th>\n",
       "      <th>firstseen</th>\n",
       "      <th>lastseen</th>\n",
       "      <th>day</th>\n",
       "      <th>origin</th>\n",
       "      <th>destination</th>\n",
       "      <th>latitude_1</th>\n",
       "      <th>longitude_1</th>\n",
       "      <th>latitude_2</th>\n",
       "      <th>longitude_2</th>\n",
       "    </tr>\n",
       "  </thead>\n",
       "  <tbody>\n",
       "    <tr>\n",
       "      <th>0</th>\n",
       "      <td>RPA</td>\n",
       "      <td>2020-01-09 21:17:46+00:00</td>\n",
       "      <td>2020-01-09 21:58:14+00:00</td>\n",
       "      <td>2020-01-09 00:00:00+00:00</td>\n",
       "      <td>KBOS</td>\n",
       "      <td>KLGA</td>\n",
       "      <td>42.369186</td>\n",
       "      <td>-71.011380</td>\n",
       "      <td>40.775173</td>\n",
       "      <td>-73.879135</td>\n",
       "    </tr>\n",
       "    <tr>\n",
       "      <th>1</th>\n",
       "      <td>EZY</td>\n",
       "      <td>2020-01-04 14:23:33+00:00</td>\n",
       "      <td>2020-01-04 17:00:18+00:00</td>\n",
       "      <td>2020-01-04 00:00:00+00:00</td>\n",
       "      <td>EGAA</td>\n",
       "      <td>LPFR</td>\n",
       "      <td>54.638535</td>\n",
       "      <td>-6.261076</td>\n",
       "      <td>37.016850</td>\n",
       "      <td>-7.983060</td>\n",
       "    </tr>\n",
       "    <tr>\n",
       "      <th>2</th>\n",
       "      <td>UPS</td>\n",
       "      <td>2020-01-29 02:31:47+00:00</td>\n",
       "      <td>2020-01-29 03:19:29+00:00</td>\n",
       "      <td>2020-01-29 00:00:00+00:00</td>\n",
       "      <td>KCLE</td>\n",
       "      <td>KSDF</td>\n",
       "      <td>41.395321</td>\n",
       "      <td>-81.873375</td>\n",
       "      <td>38.140869</td>\n",
       "      <td>-85.733506</td>\n",
       "    </tr>\n",
       "  </tbody>\n",
       "</table>\n",
       "</div>"
      ],
      "text/plain": [
       "  callsign                  firstseen                   lastseen  \\\n",
       "0      RPA  2020-01-09 21:17:46+00:00  2020-01-09 21:58:14+00:00   \n",
       "1      EZY  2020-01-04 14:23:33+00:00  2020-01-04 17:00:18+00:00   \n",
       "2      UPS  2020-01-29 02:31:47+00:00  2020-01-29 03:19:29+00:00   \n",
       "\n",
       "                         day origin destination  latitude_1  longitude_1  \\\n",
       "0  2020-01-09 00:00:00+00:00   KBOS        KLGA   42.369186   -71.011380   \n",
       "1  2020-01-04 00:00:00+00:00   EGAA        LPFR   54.638535    -6.261076   \n",
       "2  2020-01-29 00:00:00+00:00   KCLE        KSDF   41.395321   -81.873375   \n",
       "\n",
       "   latitude_2  longitude_2  \n",
       "0   40.775173   -73.879135  \n",
       "1   37.016850    -7.983060  \n",
       "2   38.140869   -85.733506  "
      ]
     },
     "execution_count": 9,
     "metadata": {},
     "output_type": "execute_result"
    }
   ],
   "source": [
    "flight_concat.head(3)"
   ]
  },
  {
   "cell_type": "code",
   "execution_count": 10,
   "id": "70da3854",
   "metadata": {},
   "outputs": [],
   "source": [
    "flight_concat.to_csv(\"flight_df_1.csv\")"
   ]
  }
 ],
 "metadata": {
  "kernelspec": {
   "display_name": "Python 3 (ipykernel)",
   "language": "python",
   "name": "python3"
  },
  "language_info": {
   "codemirror_mode": {
    "name": "ipython",
    "version": 3
   },
   "file_extension": ".py",
   "mimetype": "text/x-python",
   "name": "python",
   "nbconvert_exporter": "python",
   "pygments_lexer": "ipython3",
   "version": "3.9.13"
  }
 },
 "nbformat": 4,
 "nbformat_minor": 5
}
